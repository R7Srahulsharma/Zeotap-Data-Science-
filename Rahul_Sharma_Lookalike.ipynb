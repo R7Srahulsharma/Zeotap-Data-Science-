{
 "cells": [
  {
   "cell_type": "code",
   "execution_count": 1,
   "id": "cb917c3d-3165-4416-8ca5-37c95ea38384",
   "metadata": {},
   "outputs": [
    {
     "name": "stdout",
     "output_type": "stream",
     "text": [
      "{'C0001': [('C0002', 1.0), ('C0003', 1.0), ('C0004', 1.0)], 'C0002': [('C0002', 1.0), ('C0003', 1.0), ('C0004', 1.0)], 'C0003': [('C0002', 1.0), ('C0003', 1.0), ('C0004', 1.0)], 'C0004': [('C0002', 1.0), ('C0003', 1.0), ('C0004', 1.0)], 'C0005': [('C0002', 1.0), ('C0003', 1.0), ('C0004', 1.0)], 'C0006': [('C0002', 1.0), ('C0003', 1.0), ('C0004', 1.0)], 'C0007': [('C0002', 1.0), ('C0003', 1.0), ('C0004', 1.0)], 'C0008': [('C0002', 1.0), ('C0003', 1.0), ('C0004', 1.0)], 'C0009': [('C0002', 1.0), ('C0003', 1.0), ('C0004', 1.0)], 'C0010': [('C0002', 1.0), ('C0003', 1.0), ('C0004', 1.0)], 'C0011': [('C0002', 1.0), ('C0003', 1.0), ('C0004', 1.0)], 'C0012': [('C0002', 1.0), ('C0003', 1.0), ('C0004', 1.0)], 'C0013': [('C0002', 1.0), ('C0003', 1.0), ('C0004', 1.0)], 'C0014': [('C0002', 1.0), ('C0003', 1.0), ('C0004', 1.0)], 'C0015': [('C0002', 1.0), ('C0003', 1.0), ('C0004', 1.0)], 'C0016': [('C0002', 1.0), ('C0003', 1.0), ('C0004', 1.0)], 'C0017': [('C0002', 1.0), ('C0003', 1.0), ('C0004', 1.0)], 'C0018': [('C0002', 1.0), ('C0003', 1.0), ('C0004', 1.0)], 'C0019': [('C0002', 1.0), ('C0003', 1.0), ('C0004', 1.0)], 'C0020': [('C0002', 1.0), ('C0003', 1.0), ('C0004', 1.0)]}\n"
     ]
    }
   ],
   "source": [
    "import pandas as pd\n",
    "import numpy as np\n",
    "from sklearn.metrics.pairwise import cosine_similarity\n",
    "from sklearn.preprocessing import StandardScaler\n",
    "from sklearn.preprocessing import LabelEncoder\n",
    "\n",
    "# Load data\n",
    "customers_df = pd.read_csv('https://drive.google.com/uc?export=download&id=1bu_--mo79VdUG9oin4ybfFGRUSXAe-WE')\n",
    "products_df = pd.read_csv('https://drive.google.com/uc?export=download&id=1IKuDizVapw-hyktwfpoAoaGtHtTNHfd0')\n",
    "transactions_df = pd.read_csv('https://drive.google.com/uc?export=download&id=1saEqdbBB-vuk2hxoAf4TzDEsykdKlzbF')\n",
    "\n",
    "# Merge datasets to get complete data for each transaction\n",
    "merged_df = pd.merge(transactions_df, customers_df, on='CustomerID', how='left')\n",
    "merged_df = pd.merge(merged_df, products_df, on='ProductID', how='left')\n",
    "\n",
    "# Feature Engineering\n",
    "# 1. Customer Profile: Region, SignupDate, CustomerName (encoded)\n",
    "customer_profile = customers_df[['CustomerID', 'Region', 'SignupDate']].copy()  # Using copy() to avoid SettingWithCopyWarning\n",
    "customer_profile['SignupDate'] = pd.to_datetime(customer_profile['SignupDate']).astype(int) / 10**9  # Convert to timestamp\n",
    "\n",
    "# Encode 'Region' to numeric values using LabelEncoder\n",
    "le_region = LabelEncoder()\n",
    "customer_profile['Region'] = le_region.fit_transform(customer_profile['Region'])\n",
    "\n",
    "# 2. Transaction history: Product preferences (categories), TotalValue spent, etc.\n",
    "transaction_history = merged_df.groupby('CustomerID').agg({\n",
    "    'ProductID': lambda x: list(x),  # List of products bought\n",
    "    'TotalValue': 'sum',             # Total value spent\n",
    "    'Quantity': 'sum',               # Total quantity purchased\n",
    "    'Category': lambda x: list(x),   # List of product categories bought\n",
    "}).reset_index()\n",
    "\n",
    "# Feature Scaling for numerical values (TotalValue, Quantity)\n",
    "scaler = StandardScaler()\n",
    "transaction_history[['TotalValue', 'Quantity']] = scaler.fit_transform(transaction_history[['TotalValue', 'Quantity']])\n",
    "\n",
    "# Now we will calculate similarity scores based on both customer profile and transaction history.\n",
    "\n",
    "# 3. Compute similarity using cosine similarity\n",
    "# Combine customer profile and transaction history into one DataFrame for each customer\n",
    "customer_data = pd.merge(customer_profile, transaction_history, on='CustomerID', how='left')\n",
    "\n",
    "# Construct feature vectors\n",
    "customer_vectors = customer_data[['Region', 'SignupDate', 'TotalValue', 'Quantity']]\n",
    "customer_vectors = customer_vectors.fillna(0)  # Handle missing values\n",
    "\n",
    "# Cosine Similarity: Similarity based on customer profile and transaction history\n",
    "similarity_matrix = cosine_similarity(customer_vectors)\n",
    "\n",
    "# Now, for each customer in the first 20 customers (C0001 - C0020), we will find the top 3 lookalikes\n",
    "lookalike_map = {}\n",
    "\n",
    "for customer_id in customer_data['CustomerID'][:20]:\n",
    "    idx = customer_data[customer_data['CustomerID'] == customer_id].index[0]\n",
    "    similarity_scores = similarity_matrix[idx]\n",
    "    \n",
    "    # Sort by similarity scores, excluding the customer itself\n",
    "    sorted_similarities = sorted(enumerate(similarity_scores), key=lambda x: x[1], reverse=True)\n",
    "    top_3_similar_customers = [(customer_data.iloc[i[0]]['CustomerID'], i[1]) for i in sorted_similarities[1:4]]\n",
    "    \n",
    "    lookalike_map[customer_id] = top_3_similar_customers\n",
    "\n",
    "# Prepare the Lookalike.csv format with proper columns\n",
    "lookalike_data = []\n",
    "for customer_id, lookalikes in lookalike_map.items():\n",
    "    for lookalike in lookalikes:\n",
    "        lookalike_data.append({\n",
    "            'CustomerID': customer_id,\n",
    "            'LookalikeCustomerID': lookalike[0],\n",
    "            'SimilarityScore': lookalike[1]\n",
    "        })\n",
    "\n",
    "lookalike_df = pd.DataFrame(lookalike_data)\n",
    "\n",
    "# Output the result to a CSV file\n",
    "lookalike_df.to_csv('Lookalike.csv', index=False)\n",
    "\n",
    "# Print the lookalike mapping for verification\n",
    "print(lookalike_map)\n"
   ]
  },
  {
   "cell_type": "code",
   "execution_count": null,
   "id": "5789dfca-7190-40b0-b802-debf2e08649d",
   "metadata": {},
   "outputs": [],
   "source": []
  }
 ],
 "metadata": {
  "kernelspec": {
   "display_name": "Python 3 (ipykernel)",
   "language": "python",
   "name": "python3"
  },
  "language_info": {
   "codemirror_mode": {
    "name": "ipython",
    "version": 3
   },
   "file_extension": ".py",
   "mimetype": "text/x-python",
   "name": "python",
   "nbconvert_exporter": "python",
   "pygments_lexer": "ipython3",
   "version": "3.10.14"
  }
 },
 "nbformat": 4,
 "nbformat_minor": 5
}
